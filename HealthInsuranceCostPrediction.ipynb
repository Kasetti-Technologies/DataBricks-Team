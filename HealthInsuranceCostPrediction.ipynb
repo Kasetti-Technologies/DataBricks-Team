{
  "nbformat": 4,
  "nbformat_minor": 0,
  "metadata": {
    "colab": {
      "provenance": []
    },
    "kernelspec": {
      "name": "python3",
      "display_name": "Python 3"
    },
    "language_info": {
      "name": "python"
    }
  },
  "cells": [
    {
      "cell_type": "code",
      "source": [
        "import pandas as pd\n",
        "\n",
        "# Load the dataset\n",
        "df = pd.read_csv('/content/insurance.csv')\n",
        "\n",
        "# Display first few rows\n",
        "df.head()"
      ],
      "metadata": {
        "id": "PuX3l2cGFT6I"
      },
      "execution_count": null,
      "outputs": []
    },
    {
      "cell_type": "code",
      "source": [
        "# Import\n",
        "from sklearn.preprocessing import LabelEncoder\n",
        "\n",
        "# Create a copy to avoid modifying original\n",
        "df_encoded = df.copy()\n",
        "\n",
        "# Label encode 'sex' and 'smoker'\n",
        "le = LabelEncoder()\n",
        "df_encoded['sex'] = le.fit_transform(df_encoded['sex'])     # male=1, female=0\n",
        "df_encoded['smoker'] = le.fit_transform(df_encoded['smoker'])  # yes=1, no=0\n",
        "\n",
        "# One-hot encode 'region'\n",
        "df_encoded = pd.get_dummies(df_encoded, columns=['region'], drop_first=True)\n",
        "\n",
        "# Display the first few rows\n",
        "df_encoded.head()"
      ],
      "metadata": {
        "id": "H6SeNPVBFZOB"
      },
      "execution_count": null,
      "outputs": []
    },
    {
      "cell_type": "code",
      "source": [
        "# --- Correlation Matrix ---\n",
        "plt.figure(figsize=(10, 8))\n",
        "sns.heatmap(df_encoded.corr(), annot=True, cmap='coolwarm', fmt='.2f', linewidths=0.5)\n",
        "plt.title('Correlation Matrix')\n",
        "plt.show()"
      ],
      "metadata": {
        "id": "HxnDmc3pFdX6"
      },
      "execution_count": null,
      "outputs": []
    },
    {
      "cell_type": "code",
      "source": [
        "from sklearn.model_selection import train_test_split\n",
        "\n",
        "# Features (X) and Target (y)\n",
        "X = df_encoded.drop('charges', axis=1)  # all columns except 'charges'\n",
        "y = df_encoded['charges']               # target variable\n",
        "\n",
        "# Split data: 80% training, 20% testing\n",
        "X_train, X_test, y_train, y_test = train_test_split(X, y, test_size=0.2, random_state=42)"
      ],
      "metadata": {
        "id": "SBwJidRhFhY5"
      },
      "execution_count": null,
      "outputs": []
    },
    {
      "cell_type": "code",
      "source": [
        "from sklearn.linear_model import LinearRegression\n",
        "\n",
        "# Create a model instance\n",
        "model = LinearRegression()"
      ],
      "metadata": {
        "id": "vTrnProWFj-q"
      },
      "execution_count": 1,
      "outputs": []
    },
    {
      "cell_type": "code",
      "source": [
        "# Train the model on training data\n",
        "model.fit(X_train, y_train)"
      ],
      "metadata": {
        "id": "Lz9IJvcAFmap"
      },
      "execution_count": null,
      "outputs": []
    },
    {
      "cell_type": "code",
      "source": [
        "from sklearn.metrics import mean_absolute_error, mean_squared_error, r2_score\n",
        "import numpy as np\n",
        "\n",
        "# Predict on test data\n",
        "y_pred = model.predict(X_test)\n",
        "\n",
        "# Evaluation metrics\n",
        "r2 = r2_score(y_test, y_pred)\n",
        "mae = mean_absolute_error(y_test, y_pred)\n",
        "mse = mean_squared_error(y_test, y_pred)\n",
        "rmse = np.sqrt(mse)\n",
        "\n",
        "# Print the results\n",
        "print(f\"R² Score: {r2}\")\n",
        "print(f\"MAE: {mae}\")\n",
        "print(f\"MSE: {mse}\")\n",
        "print(f\"RMSE: {rmse}\")"
      ],
      "metadata": {
        "id": "Qr5fQlt5FtmZ"
      },
      "execution_count": null,
      "outputs": []
    },
    {
      "cell_type": "code",
      "source": [
        "from sklearn.ensemble import RandomForestRegressor\n",
        "from sklearn.metrics import r2_score, mean_squared_error\n",
        "import numpy as np\n",
        "\n",
        "# 1. Initialize the model (with random_state for reproducibility)\n",
        "rf = RandomForestRegressor(n_estimators=100, random_state=42)\n",
        "\n",
        "# 2. Fit the model\n",
        "rf.fit(X_train, y_train)\n",
        "\n",
        "# 3. Predict on test set\n",
        "y_pred_rf = rf.predict(X_test)\n",
        "\n",
        "# 4. Evaluate\n",
        "r2 = r2_score(y_test, y_pred_rf)\n",
        "rmse = np.sqrt(mean_squared_error(y_test, y_pred_rf))\n",
        "\n",
        "print(\"Random Forest - R² Score:\", r2)\n",
        "print(\"Random Forest - RMSE:\", rmse)"
      ],
      "metadata": {
        "id": "nrWCzts0F46q"
      },
      "execution_count": null,
      "outputs": []
    },
    {
      "cell_type": "code",
      "source": [
        "from sklearn.tree import DecisionTreeRegressor\n",
        "from sklearn.metrics import mean_squared_error, r2_score\n",
        "import numpy as np\n",
        "\n",
        "# Create the model\n",
        "dt_model = DecisionTreeRegressor(max_depth=4, random_state=42)\n",
        "\n",
        "# Fit the model\n",
        "dt_model.fit(X_train, y_train)\n",
        "\n",
        "# Predict\n",
        "y_pred_dt = dt_model.predict(X_test)\n",
        "\n",
        "# Evaluate\n",
        "r2_dt = r2_score(y_test, y_pred_dt)\n",
        "rmse_dt = np.sqrt(mean_squared_error(y_test, y_pred_dt))\n",
        "\n",
        "# 📊 Decision Tree Performance\n",
        "print(\"R² Score:\", r2_dt)\n",
        "print(\"RMSE:\", rmse_dt)"
      ],
      "metadata": {
        "id": "m61kFZKkF7Zn"
      },
      "execution_count": null,
      "outputs": []
    },
    {
      "cell_type": "code",
      "source": [
        "from xgboost import XGBRegressor\n",
        "from sklearn.metrics import mean_squared_error, r2_score\n",
        "import numpy as np\n",
        "\n",
        "# Create the model\n",
        "xgb = XGBRegressor(n_estimators=100, max_depth=4, learning_rate=0.1, random_state=42)\n",
        "\n",
        "# Fit the model\n",
        "xgb.fit(X_train, y_train)\n",
        "\n",
        "# Predict\n",
        "y_pred = xgb.predict(X_test)\n",
        "\n",
        "# Evaluate\n",
        "r2 = r2_score(y_test, y_pred)\n",
        "rmse = np.sqrt(mean_squared_error(y_test, y_pred))\n",
        "\n",
        "# print(\"📊 XGBoost Performance:\")\n",
        "print(\"R² Score:\", r2)\n",
        "print(\"RMSE:\", rmse)"
      ],
      "metadata": {
        "id": "futocbmUF9-r"
      },
      "execution_count": null,
      "outputs": []
    },
    {
      "cell_type": "code",
      "source": [
        "import joblib\n",
        "\n",
        "# Save the trained model\n",
        "joblib.dump(model, 'insurance_model.pkl')\n",
        "print(\"Model saved successfully!\")"
      ],
      "metadata": {
        "id": "PVsZGaE8GAe6"
      },
      "execution_count": null,
      "outputs": []
    },
    {
      "cell_type": "code",
      "source": [
        "import pandas as pd\n",
        "\n",
        "# Define the input values\n",
        "age = 36\n",
        "sex = 0  # female\n",
        "bmi = 30.020\n",
        "children = 0\n",
        "smoker = 0  # No\n",
        "region_northwest = 1\n",
        "region_southeast = 0\n",
        "region_southwest = 0\n",
        "# Actual Charge: 5272.17580\n",
        "# Create a DataFrame with proper feature names\n",
        "input_df = pd.DataFrame([{\n",
        "    'age': age,\n",
        "    'sex': sex,\n",
        "    'bmi': bmi,\n",
        "    'children': children,\n",
        "    'smoker': smoker,\n",
        "    'region_northwest': region_northwest,\n",
        "    'region_southeast': region_southeast,\n",
        "    'region_southwest': region_southwest\n",
        "}])"
      ],
      "metadata": {
        "id": "OUsV8OYVGEUz"
      },
      "execution_count": null,
      "outputs": []
    },
    {
      "cell_type": "code",
      "source": [
        "# Predict using the trained model\n",
        "prediction = model.predict(input_df)\n",
        "print(\"Predicted Insurance Cost by Linear Regressor:\", prediction[0])"
      ],
      "metadata": {
        "id": "Bfym8UHeGGqv"
      },
      "execution_count": null,
      "outputs": []
    },
    {
      "cell_type": "code",
      "source": [
        "prediction = xgb.predict(input_df)\n",
        "print(\"Predicted Insurance Cost by XGBoost:\", prediction[0])"
      ],
      "metadata": {
        "id": "K6hKMdbNGJEt"
      },
      "execution_count": null,
      "outputs": []
    }
  ]
}